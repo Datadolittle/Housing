{
 "cells": [
  {
   "cell_type": "code",
   "execution_count": null,
   "metadata": {},
   "outputs": [],
   "source": [
    "import pandas as pd\n",
    "import matplotlib.pyplot as plt\n",
    "import numpy as np\n",
    "import seaborn as sns\n",
    "from celluloid import Camera\n",
    "%matplotlib inline\n",
    "df = pd.read_csv(\"../data/Combined_age_in_place.csv\")"
   ]
  },
  {
   "cell_type": "code",
   "execution_count": null,
   "metadata": {},
   "outputs": [],
   "source": [
    "# Website of data\n",
    "#https://data.census.gov/cedsci/table?q=homeownership&tid=ACSDP1Y2018.DP04&hidePreview=false"
   ]
  },
  {
   "cell_type": "code",
   "execution_count": null,
   "metadata": {
    "code_folding": []
   },
   "outputs": [],
   "source": [
    "fig = plt.figure()\n",
    "camera = Camera(fig)\n",
    "\n",
    "for i in range(9):\n",
    "    year = str(2010+i)\n",
    "    df2 = df[[\"Age_Groups\", year, \"Status\"]]\n",
    "    df3 = df2.pivot(index='Age_Groups', columns='Status', values=year)\n",
    "    df3 = df3.reset_index()\n",
    "    df3.iloc[:,2]  *= -1\n",
    "    AgeClass = ['85 years and older', '75 to 84 years', '64 to 74 years', '55 to 64 years','45 to 54 years','35 to 44 years', 'Under 35 years']\n",
    "    bar_plot = sns.barplot(x='Rent', y='Age_Groups', data=df3, order=AgeClass)\n",
    "    bar_plot = sns.barplot(x='OO', y='Age_Groups', data=df3, order=AgeClass)\n",
    "    bar_plot.set(xlabel=\"Renting versus Owner Occupancy\", ylabel=\"Age-Group\", title = '')\n",
    "    plt.axvline(x=0, color='black', lw=3)\n",
    "    plt.xlim(-38,32)\n",
    "    bar_plot.text(5.5, .1, 'Owner Occupancy', size=12)\n",
    "    bar_plot.text(-20, .1, 'Renting', size=12)\n",
    "    bar_plot.set_xticklabels(['40%', '30%', '20%', '10%', '0%', \"10%\", \"20%\", \"30%\"])\n",
    "    bar_plot.text(-5, -.75, str(year), size=20)\n",
    "    plt.tight_layout()\n",
    "    camera.snap()\n",
    "    \n",
    "animation = camera.animate(interval=500, blit=True)\n",
    "animation.save('../gifs/Age_Groups.gif', writer = 'pillow')"
   ]
  },
  {
   "cell_type": "markdown",
   "metadata": {},
   "source": [
    "### Generational"
   ]
  },
  {
   "cell_type": "code",
   "execution_count": null,
   "metadata": {},
   "outputs": [],
   "source": [
    "## Boomers 55-64 64-74\n",
    "## Silent 74-84 85+\n",
    "## Gen X 34-44\n",
    "## Milenial < 35\n",
    "## Split 45-55 between boomer & gen X "
   ]
  },
  {
   "cell_type": "code",
   "execution_count": null,
   "metadata": {},
   "outputs": [],
   "source": [
    "df_oo = df[df['Status']=='OO']\n",
    "df_oo['Generations'] = [\"Millennials\", \"Generation X\", \"Split\", \n",
    "                        \"Boomer\", \"Boomer\", \"Silent Generation\", \"Silent Generation\"]\n",
    "df_oo = df_oo[['Generations', '2010', '2011', '2012', '2013', '2014', '2015', '2016', '2017', '2018']]\n",
    "df_oo = df_oo.groupby(\"Generations\").sum()\n",
    "x = df_oo.loc['Boomer', ] + df_oo.loc['Split', ]/2\n",
    "y = df_oo.loc['Generation X', ] + df_oo.loc['Split', ]/2\n",
    "df4 = df_oo.append([x, y], ignore_index=True)\n",
    "df4['Generations'] = [\"Remove\", \"Remove\", \"Millennials\", \"Silent Generation\", \"Remove\", \n",
    "                     \"Boomer\", \"Generation X\"]\n",
    "df4 = df4[df4['Generations']!=\"Remove\"]\n",
    "#df4 = df4.set_index(\"Generations\")\n",
    "df4['Status'] = \"OO\"\n",
    "\n",
    "df_oo = df[df['Status']=='Rent']\n",
    "df_oo['Generations'] = [\"Millennials\", \"Generation X\", \"Split\", \n",
    "                        \"Boomer\", \"Boomer\", \"Silent Generation\", \"Silent Generation\"]\n",
    "df_oo = df_oo[['Generations', '2010', '2011', '2012', '2013', '2014', '2015', '2016', '2017', '2018']]\n",
    "df_oo = df_oo.groupby(\"Generations\").sum()\n",
    "x = df_oo.loc['Boomer', ] + df_oo.loc['Split', ]/2\n",
    "y = df_oo.loc['Generation X', ] + df_oo.loc['Split', ]/2\n",
    "df5 = df_oo.append([x, y], ignore_index=True)\n",
    "df5['Generations'] = [\"Remove\", \"Remove\", \"Millennials\", \"Silent Generation\", \"Remove\", \n",
    "                     \"Boomer\", \"Generation X\"]\n",
    "df5 = df5[df5['Generations']!=\"Remove\"]\n",
    "#df5 = df5.set_index(\"Generations\")\n",
    "df5['Status'] = \"Rent\"\n",
    "\n",
    "df_gens = pd.concat([df4, df5])"
   ]
  },
  {
   "cell_type": "code",
   "execution_count": null,
   "metadata": {},
   "outputs": [],
   "source": [
    "fig = plt.figure()\n",
    "camera = Camera(fig)\n",
    "\n",
    "for i in range(9):\n",
    "    year = str(2010+i)\n",
    "    df2 = df_gens[[\"Generations\", year, \"Status\"]]\n",
    "    df3 = df2.pivot(index='Generations', columns='Status', values=year)\n",
    "    df3 = df3.reset_index()\n",
    "    df3.iloc[:,2]  *= -1\n",
    "    AgeClass = ['Silent Generation', 'Boomer', 'Generation X', 'Millennials']\n",
    "    bar_plot = sns.barplot(x='Rent', y='Generations', data=df3, order=AgeClass)\n",
    "    bar_plot = sns.barplot(x='OO', y='Generations', data=df3, order=AgeClass)\n",
    "    bar_plot.set(xlabel=\"Renting versus Owner Occupancy\", ylabel=\"Age-Group\", title = '')\n",
    "    plt.axvline(x=0, color='black', lw=3)\n",
    "    plt.xlim(-45,55)\n",
    "    bar_plot.text(17, .1, 'Owner Occupancy', size=12)\n",
    "    bar_plot.text(-30, .1, 'Renting', size=12)\n",
    "    x = [-40, -30, -20, -10, 0, 10, 20, 30, 40, 50]\n",
    "    bar_plot.set_xticks(x) \n",
    "    bar_plot.set_xticklabels(['40%', '30%', '20%', '10%', '0%', \"10%\", \"20%\", \"30%\", \"40%\", \"50%\"])\n",
    "    bar_plot.text(-8.5, -.65, str(year), size=20)\n",
    "    plt.tight_layout()\n",
    "    camera.snap()\n",
    "    \n",
    "animation = camera.animate(interval=500, blit=True)\n",
    "animation.save('../gifs/Generational.gif', writer = 'pillow')"
   ]
  },
  {
   "cell_type": "markdown",
   "metadata": {},
   "source": [
    "### Ownership Delta"
   ]
  },
  {
   "cell_type": "code",
   "execution_count": null,
   "metadata": {},
   "outputs": [],
   "source": [
    "fig = plt.figure()\n",
    "camera = Camera(fig)\n",
    "\n",
    "\n",
    "df_oo = df[df['Status']=='OO']\n",
    "df_vals = df_oo[['Age_Groups', '2010', '2011', '2012', '2013', '2014', '2015', '2016', '2017', '2018']]\n",
    "df_val2 = df_oo[['2010', '2018']]\n",
    "\n",
    "df_vals = df_vals.set_index(\"Age_Groups\")\n",
    "differenceFrame = df_vals.diff(axis=1)\n",
    "differenceFrame = differenceFrame.fillna(0)\n",
    "differenceFrame = differenceFrame.reset_index()\n",
    "differenceFrame2 = df_val2.diff(axis=1)\n",
    "differenceFrame2\n",
    "\n",
    "for i in range(9):\n",
    "    year = str(2010+i)\n",
    "    df2 = differenceFrame[[\"Age_Groups\", year]]\n",
    "    AgeClass = ['85 years and older', '75 to 84 years', '64 to 74 years', '55 to 64 years','45 to 54 years','35 to 44 years', 'Under 35 years']\n",
    "    bar_plot = sns.barplot(x=year, y='Age_Groups', data=df2, order=AgeClass)\n",
    "    bar_plot.set(xlabel=\"Delta Percent Owner Occupancy\", ylabel=\"Age-Group\", title = '')\n",
    "    plt.axvline(x=0, color='black', lw=3)\n",
    "    plt.xlim(-1.1,1.1)\n",
    "    bar_plot.text(-.2, -.75, str(year), size=20)\n",
    "    plt.tight_layout()\n",
    "    camera.snap()\n",
    "    \n",
    "animation = camera.animate(interval=500)\n",
    "animation.save('../gifs/Delta_Owner_Occupancy.gif', writer = 'pillow')"
   ]
  },
  {
   "cell_type": "code",
   "execution_count": null,
   "metadata": {},
   "outputs": [],
   "source": [
    "differenceFrame2"
   ]
  },
  {
   "cell_type": "code",
   "execution_count": null,
   "metadata": {},
   "outputs": [],
   "source": [
    "differenceFrame"
   ]
  },
  {
   "cell_type": "code",
   "execution_count": null,
   "metadata": {},
   "outputs": [],
   "source": []
  },
  {
   "cell_type": "code",
   "execution_count": null,
   "metadata": {},
   "outputs": [],
   "source": [
    "fig = plt.figure()\n",
    "camera = Camera(fig)\n",
    "\n",
    "df_oo = df_gens[df_gens['Status']=='OO']\n",
    "df_vals = df_oo[['Generations', '2010', '2011', '2012', '2013', '2014', '2015', '2016', '2017', '2018']]\n",
    "df_val2 = df_oo[['2010', '2018']]\n",
    "\n",
    "df_vals = df_vals.set_index(\"Generations\")\n",
    "differenceFrame = df_vals.diff(axis=1)\n",
    "differenceFrame = differenceFrame.fillna(0)\n",
    "differenceFrame = differenceFrame.reset_index()\n",
    "differenceFrame2 = df_val2.diff(axis=1)\n",
    "differenceFrame2\n",
    "\n",
    "for i in range(9):\n",
    "    year = str(2010+i)\n",
    "    df2 = differenceFrame[[\"Generations\", year]]\n",
    "    AgeClass = ['Silent Generation', 'Boomer', 'Generation X', 'Millennials']\n",
    "    bar_plot = sns.barplot(x=year, y='Generations', data=df2, order=AgeClass)\n",
    "    bar_plot.set(xlabel=\"Delta Percent Owner Occupancy\", ylabel=\"Generations\", title = '')\n",
    "    plt.axvline(x=0, color='black', lw=3)\n",
    "    plt.xlim(-1.1,1.1)\n",
    "    bar_plot.text(-.2, -.75, str(year), size=20)\n",
    "    plt.tight_layout()\n",
    "    camera.snap()\n",
    "    \n",
    "animation = camera.animate(interval=500)\n",
    "animation.save('../gifs/Generational_Delta_Owner.gif', writer = 'pillow')"
   ]
  },
  {
   "cell_type": "code",
   "execution_count": null,
   "metadata": {},
   "outputs": [],
   "source": [
    "differenceFrame"
   ]
  },
  {
   "cell_type": "code",
   "execution_count": null,
   "metadata": {},
   "outputs": [],
   "source": [
    "differenceFrame2"
   ]
  },
  {
   "cell_type": "markdown",
   "metadata": {},
   "source": [
    "### Renting Difference"
   ]
  },
  {
   "cell_type": "code",
   "execution_count": null,
   "metadata": {},
   "outputs": [],
   "source": [
    "fig = plt.figure()\n",
    "camera = Camera(fig)\n",
    "\n",
    "\n",
    "df_rent = df[df['Status']=='Rent']\n",
    "df_vals = df_rent[['Age_Groups', '2010', '2011', '2012', '2013', '2014', '2015', '2016', '2017', '2018']]\n",
    "df_val2 = df_rent[['2010', '2018']]\n",
    "\n",
    "\n",
    "df_vals = df_vals.set_index(\"Age_Groups\")\n",
    "differenceFrame = df_vals.diff(axis=1)\n",
    "differenceFrame = differenceFrame.fillna(0)\n",
    "differenceFrame = differenceFrame.reset_index()\n",
    "differenceFrame2 = df_val2.diff(axis=1)\n",
    "differenceFrame2\n",
    "\n",
    "for i in range(9):\n",
    "    year = str(2010+i)\n",
    "    df2 = differenceFrame[[\"Age_Groups\", year]]\n",
    "    AgeClass = ['85 years and older', '75 to 84 years', '64 to 74 years', '55 to 64 years','45 to 54 years','35 to 44 years', 'Under 35 years']\n",
    "    bar_plot = sns.barplot(x=year, y='Age_Groups', data=df2, order=AgeClass)\n",
    "    bar_plot.set(xlabel=\"Delta Percent Renting\", ylabel=\"Age-Group\", title = '')\n",
    "    plt.axvline(x=0, color='black', lw=3)\n",
    "    plt.xlim(-1.1,1.1)\n",
    "    bar_plot.text(-.2, -.75, str(year), size=20)\n",
    "    plt.tight_layout()\n",
    "    camera.snap()\n",
    "    \n",
    "animation = camera.animate(interval=500)\n",
    "animation.save('../gifs/Delta_Renting.gif', writer = 'pillow')"
   ]
  },
  {
   "cell_type": "code",
   "execution_count": null,
   "metadata": {},
   "outputs": [],
   "source": [
    "differenceFrame2"
   ]
  },
  {
   "cell_type": "code",
   "execution_count": null,
   "metadata": {},
   "outputs": [],
   "source": [
    "differenceFrame"
   ]
  },
  {
   "cell_type": "markdown",
   "metadata": {},
   "source": [
    "### End of Notebook"
   ]
  }
 ],
 "metadata": {
  "kernelspec": {
   "display_name": "Python 3",
   "language": "python",
   "name": "python3"
  },
  "language_info": {
   "codemirror_mode": {
    "name": "ipython",
    "version": 2
   },
   "file_extension": ".py",
   "mimetype": "text/x-python",
   "name": "python",
   "nbconvert_exporter": "python",
   "pygments_lexer": "ipython2",
   "version": "2.7.15"
  },
  "toc": {
   "base_numbering": 1,
   "nav_menu": {},
   "number_sections": true,
   "sideBar": true,
   "skip_h1_title": false,
   "title_cell": "Table of Contents",
   "title_sidebar": "Contents",
   "toc_cell": false,
   "toc_position": {},
   "toc_section_display": true,
   "toc_window_display": false
  }
 },
 "nbformat": 4,
 "nbformat_minor": 2
}
